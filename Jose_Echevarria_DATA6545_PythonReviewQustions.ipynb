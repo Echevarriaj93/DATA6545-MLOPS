{
  "nbformat": 4,
  "nbformat_minor": 0,
  "metadata": {
    "colab": {
      "provenance": [],
      "include_colab_link": true
    },
    "kernelspec": {
      "name": "python3",
      "display_name": "Python 3"
    }
  },
  "cells": [
    {
      "cell_type": "markdown",
      "metadata": {
        "id": "view-in-github",
        "colab_type": "text"
      },
      "source": [
        "<a href=\"https://colab.research.google.com/github/Echevarriaj93/DATA6545-MLOPS/blob/main/Jose_Echevarria_DATA6545_PythonReviewQustions.ipynb\" target=\"_parent\"><img src=\"https://colab.research.google.com/assets/colab-badge.svg\" alt=\"Open In Colab\"/></a>"
      ]
    },
    {
      "cell_type": "markdown",
      "metadata": {
        "id": "qc1PC_k9FfXE"
      },
      "source": [
        "# Coding Along Questions for basic Python\n",
        "\n",
        "Below are a few in-class questions we will tackle together.\n",
        "\n",
        "Please focus on the __logic__ and __process__ of solving these questions, rather than the code/result."
      ]
    },
    {
      "cell_type": "markdown",
      "metadata": {
        "id": "lkjKs3NdF3D9"
      },
      "source": [
        "## Q1: I can draw with Python\n",
        "\n",
        "__Knowledge required__: _string handling_, _reversed order loops_\n",
        "\n",
        "Use `for` loop only to produce following output with a __function__.\n",
        "\n",
        "```\n",
        "\\\n",
        "= \\\n",
        "= = \\\n",
        "= = = \\\n",
        "= = = = \\\n",
        "= = = = /\n",
        "= = = /\n",
        "= = /\n",
        "= /\n",
        "/\n",
        "```"
      ]
    },
    {
      "cell_type": "code",
      "metadata": {
        "id": "IxIIvQ3VEsLk",
        "colab": {
          "base_uri": "https://localhost:8080/"
        },
        "outputId": "ac199686-3f77-4d19-c1c1-1166ecb9374a"
      },
      "source": [
        "def pyramid(): \n",
        "#Ascending\n",
        "  for i in range(5):\n",
        "    for e in range(i):\n",
        "      print('=', end=' ')\n",
        "    print('\\ ')\n",
        "\n",
        "#Descending \n",
        "  for i in range(4, 0, -1):\n",
        "    for e in range(i):\n",
        "      print('=', end=' ')\n",
        "    print('/')\n",
        "#Final '/'\n",
        "  print('/')\n",
        "\n",
        "pyramid()"
      ],
      "execution_count": null,
      "outputs": [
        {
          "output_type": "stream",
          "name": "stdout",
          "text": [
            "\\ \n",
            "= \\ \n",
            "= = \\ \n",
            "= = = \\ \n",
            "= = = = \\ \n",
            "= = = = /\n",
            "= = = /\n",
            "= = /\n",
            "= /\n",
            "/\n"
          ]
        }
      ]
    },
    {
      "cell_type": "markdown",
      "metadata": {
        "id": "XXLWe3M-GfYM"
      },
      "source": [
        "## Q2: Blast Count down\n",
        "\n",
        "Use `for` loop only to produce following output with a __function__.\n",
        "\n",
        "__Knowledge required__: _string handling_, _reversed order loops_\n",
        "\n",
        "```\n",
        "5...\n",
        "4...\n",
        "3...\n",
        "2...\n",
        "1...\n",
        "Boom!!!\n",
        "```"
      ]
    },
    {
      "cell_type": "code",
      "metadata": {
        "id": "UTk7P0xSEwa9",
        "colab": {
          "base_uri": "https://localhost:8080/"
        },
        "outputId": "f15217a3-5f62-463e-f0ec-8fee7bd2d0ab"
      },
      "source": [
        "def countdown():\n",
        "#establish range 5 countdown. If number > 0 print concat '...' to number\n",
        "  for i in range(5,  -1, -1):\n",
        "    if i > 0:\n",
        "      print(str(i) + '...')\n",
        "#if number less than 1 print Boom!!!\n",
        "  else:\n",
        "     print('Boom!!!')\n",
        "\n",
        "countdown()"
      ],
      "execution_count": null,
      "outputs": [
        {
          "output_type": "stream",
          "name": "stdout",
          "text": [
            "5...\n",
            "4...\n",
            "3...\n",
            "2...\n",
            "1...\n",
            "Boom!!!\n"
          ]
        }
      ]
    },
    {
      "cell_type": "markdown",
      "metadata": {
        "id": "42Xk4PCdHvfo"
      },
      "source": [
        "## Q3: Spell Checker\n",
        "\n",
        "Use `for` loop only to find all the misspelt words in the following text with a function.\n",
        "\n",
        "__Knowledge required__: _string slicing_, _conditionals_\n",
        "\n",
        "```\n",
        "1 0WN A COMPUTER. 1 3ARNED A LOT OF 3XP3R13NC35 LAST YEAR. MY WORK HAS 23R0 5TR355.\n",
        "```"
      ]
    },
    {
      "cell_type": "code",
      "metadata": {
        "id": "895GK9tmHAfS",
        "colab": {
          "base_uri": "https://localhost:8080/"
        },
        "outputId": "7ac1264a-6ac2-423a-c06b-60415766ee57"
      },
      "source": [
        "### Write your code here\n",
        "sentence = '0WN A COMPUTER. 1 3ARNED A LOT OF 3XP3R13NC35 LAST YEAR. MY WORK HAS 23R0 5TR355.'\n",
        "\n",
        "def mispelled_words(s):\n",
        "#Strings immutable but lists are not\n",
        "  split_sentence = sentence.split(' ')\n",
        "\n",
        "#list to aggregate mispelled words\n",
        "  mispelled_words = [] \n",
        "#if any char is numeric: append the entire word to list\n",
        "  for word in split_sentence:\n",
        "    for char in word:\n",
        "      if char.isnumeric(): \n",
        "        mispelled_words.append(word)\n",
        "#return only unique words\n",
        "  return list(set(mispelled_words))\n",
        "\n",
        "mispelled_words(sentence)\n",
        "\n",
        "\n"
      ],
      "execution_count": null,
      "outputs": [
        {
          "output_type": "execute_result",
          "data": {
            "text/plain": [
              "['5TR355.', '3XP3R13NC35', '23R0', '0WN', '3ARNED', '1']"
            ]
          },
          "metadata": {},
          "execution_count": 12
        }
      ]
    },
    {
      "cell_type": "markdown",
      "metadata": {
        "id": "GkC0-SqcNvQG"
      },
      "source": [
        "### Fun moment:\n",
        "\n",
        "Can you correct the spelling of the sentence above?"
      ]
    },
    {
      "cell_type": "code",
      "source": [
        "\n",
        "\n",
        "#Dictionary of numbers and letters used in sentence\n",
        "numkey = {'0': 'O', '1': 'I', '2': 'Z', '3': 'E', '5': 'S'} \n",
        "\n",
        "#Mispelled sentence\n",
        "sentence = '0WN A COMPUTER. 1 3ARNED A LOT OF 3XP3R13NC35 LAST YEAR. MY WORK HAS 23R0 5TR355.'\n",
        "\n",
        "#We will add corrected sentence here since strings are imutable\n",
        "corrected = \"\"\n",
        "\n",
        "for c in sentence: #for character in sentence\n",
        "\n",
        "#if character in numkey dict keys then replace with keys corresponding value\n",
        "  if c in numkey.keys(): \n",
        "    corrected += numkey[c]\n",
        "#otherwise keep chracter as is\n",
        "  else:\n",
        "    corrected += c   \n",
        "#Return corrected sentence\n",
        "corrected\n",
        "\n",
        "#Solution from Data6505. One liner.\n",
        "# decoder = ''.join([numkey.get(c,c) for c in sentence])\n",
        "\n",
        "# decoder"
      ],
      "metadata": {
        "colab": {
          "base_uri": "https://localhost:8080/",
          "height": 35
        },
        "id": "SbYGdpDKZzsl",
        "outputId": "4e38a974-2333-499a-a3d3-485051e461e4"
      },
      "execution_count": null,
      "outputs": [
        {
          "output_type": "execute_result",
          "data": {
            "text/plain": [
              "'OWN A COMPUTER. I EARNED A LOT OF EXPERIENCES LAST YEAR. MY WORK HAS ZERO STRESS.'"
            ],
            "application/vnd.google.colaboratory.intrinsic+json": {
              "type": "string"
            }
          },
          "metadata": {},
          "execution_count": 10
        }
      ]
    },
    {
      "cell_type": "markdown",
      "metadata": {
        "id": "o9qwJkl8J_SH"
      },
      "source": [
        "## Q4: Random Name Generator\n",
        "\n",
        "Given lists of `first_names` and `last_names`, generate all possible names in the form of `last_name, first_name`.\n",
        "\n",
        "__Knowledge required__: _nested loops_"
      ]
    },
    {
      "cell_type": "code",
      "metadata": {
        "id": "nAzQGrfXJC_v"
      },
      "source": [
        "first_names = ['Anna', 'Carrie', 'Justin', 'Lacie']\n",
        "last_names = ['Case', 'Conda', 'Curtains', 'Oakey']\n",
        "\n"
      ],
      "execution_count": null,
      "outputs": []
    },
    {
      "cell_type": "code",
      "metadata": {
        "id": "KG2K-A3DqJLb",
        "colab": {
          "base_uri": "https://localhost:8080/"
        },
        "outputId": "600fc740-0366-46b6-e1dd-f2aae0ca8d66"
      },
      "source": [
        "### Write your code here\n",
        "import random\n",
        "\n",
        "first_names = ['Anna', 'Carrie', 'Justin', 'Lacie']\n",
        "last_names = ['Case', 'Conda', 'Curtains', 'Oakey']\n",
        "\n",
        "#iterate throuhg all last names\n",
        "for l in last_names:\n",
        "#iterate through all first names\n",
        "  for f in first_names:\n",
        "#print all combinations of both\n",
        "    print(l, f)"
      ],
      "execution_count": null,
      "outputs": [
        {
          "output_type": "stream",
          "name": "stdout",
          "text": [
            "Case Anna\n",
            "Case Carrie\n",
            "Case Justin\n",
            "Case Lacie\n",
            "Conda Anna\n",
            "Conda Carrie\n",
            "Conda Justin\n",
            "Conda Lacie\n",
            "Curtains Anna\n",
            "Curtains Carrie\n",
            "Curtains Justin\n",
            "Curtains Lacie\n",
            "Oakey Anna\n",
            "Oakey Carrie\n",
            "Oakey Justin\n",
            "Oakey Lacie\n"
          ]
        }
      ]
    },
    {
      "cell_type": "markdown",
      "metadata": {
        "id": "JPNJRK-UN2vG"
      },
      "source": [
        "### Fun Moment:\n",
        "\n",
        "Notice any funny names above?"
      ]
    },
    {
      "cell_type": "markdown",
      "metadata": {
        "id": "xQRUT-Fb0RIW"
      },
      "source": [
        "## Q5: `return` vs `yield`\n",
        "\n",
        "Write a function (`div_7`) to find all numbers that can be divided by `7` between `0` and `50`.\n",
        "\n",
        "Use ``return`` and ``yield`` separately, and compare the use/outputs.\n",
        "\n",
        "__Knowledge required__: _function defition and calls_"
      ]
    },
    {
      "cell_type": "code",
      "metadata": {
        "id": "Vs_Jj4CtNpXx"
      },
      "source": [
        "### Write your code using ``return`` here\n",
        "def div_7():\n",
        "  divs = []\n",
        "  for n in range(50):\n",
        "    if n % 7 == 0:\n",
        "      divs.append(n)\n",
        "  return divs"
      ],
      "execution_count": null,
      "outputs": []
    },
    {
      "cell_type": "code",
      "metadata": {
        "id": "LgNx5jFKzjtk",
        "colab": {
          "base_uri": "https://localhost:8080/"
        },
        "outputId": "2cc86879-b6eb-4c91-95d9-ef50f7e2a862"
      },
      "source": [
        "### call your function here\n",
        "div_7()"
      ],
      "execution_count": null,
      "outputs": [
        {
          "output_type": "execute_result",
          "data": {
            "text/plain": [
              "[0, 7, 14, 21, 28, 35, 42, 49]"
            ]
          },
          "metadata": {},
          "execution_count": 67
        }
      ]
    },
    {
      "cell_type": "code",
      "metadata": {
        "id": "jtGKI-y0zlx8"
      },
      "source": [
        "### This is a generator function that can be used in a loop\n",
        "def div_7y(n):\n",
        "  for i in range(0, n):\n",
        "    if i % 7 == 0:   \n",
        "      yield i\n",
        "   \n",
        "    "
      ],
      "execution_count": null,
      "outputs": []
    },
    {
      "cell_type": "code",
      "metadata": {
        "id": "QZsf_g16zs99",
        "colab": {
          "base_uri": "https://localhost:8080/"
        },
        "outputId": "bb83e852-d74a-4273-ef88-151ea9b84c64"
      },
      "source": [
        "### Calling function where n = 50. Generates all numbers divisible by 7. \n",
        "for i in div_7y(50):\n",
        "  print(i)"
      ],
      "execution_count": null,
      "outputs": [
        {
          "output_type": "stream",
          "name": "stdout",
          "text": [
            "0\n",
            "7\n",
            "14\n",
            "21\n",
            "28\n",
            "35\n",
            "42\n",
            "49\n"
          ]
        }
      ]
    },
    {
      "cell_type": "markdown",
      "metadata": {
        "id": "medjt7NUqf1Q"
      },
      "source": [
        "## Answer the Question:\n",
        "\n",
        "What are the differences between ``return`` and ``yield``?"
      ]
    },
    {
      "cell_type": "markdown",
      "source": [
        "# return executes and end the function. Yield will return in demand elements and does not end. Its a way to have multiple returns and save memory."
      ],
      "metadata": {
        "id": "d4GF3Ut0p0YC"
      }
    },
    {
      "cell_type": "markdown",
      "metadata": {
        "id": "VFaUNqXBS7DK"
      },
      "source": [
        "## Q6: Substring Inserter\n",
        "\n",
        "Write a function (`char_ins()`) to insert any user defined substring into the $n^{th}$ position of another string.\n",
        "\n",
        "```python\n",
        "char_ins('i', 3, 'python') --> 'pytihon'\n",
        "char_ins('i', -287, 'python') --> 'ipython'\n",
        "char_ins('i', 10000, 'python') --> 'pythoni'\n",
        "char_ins('i', 2, '') --> 'i'\n",
        "```"
      ]
    },
    {
      "cell_type": "code",
      "source": [
        " ### Write your function here\n",
        "def char_ins(char , index, string):\n",
        "  new = string[:index] + char + string[index:]\n",
        "  return new\n",
        "\n",
        "\n",
        "char_ins('ic', 0, 'python')"
      ],
      "metadata": {
        "colab": {
          "base_uri": "https://localhost:8080/",
          "height": 35
        },
        "id": "Rz_xvEyd9HbK",
        "outputId": "bc1effbd-051c-4666-90e5-8fa45deba47c"
      },
      "execution_count": null,
      "outputs": [
        {
          "output_type": "execute_result",
          "data": {
            "text/plain": [
              "'icpython'"
            ],
            "application/vnd.google.colaboratory.intrinsic+json": {
              "type": "string"
            }
          },
          "metadata": {},
          "execution_count": 30
        }
      ]
    },
    {
      "cell_type": "code",
      "metadata": {
        "id": "yL--3Cx3IeYw",
        "colab": {
          "base_uri": "https://localhost:8080/"
        },
        "outputId": "6f075e98-ad59-42e9-9c6b-efb2ef3e7ff1"
      },
      "source": [
        "### Test your function here\n",
        "\n",
        "print(char_ins('i', 3, 'python'))\n",
        "print(char_ins('i', -287, 'python')) \n",
        "print(char_ins('i', 10000, 'python'))\n",
        "print(char_ins('i', 2, ''))"
      ],
      "execution_count": null,
      "outputs": [
        {
          "output_type": "stream",
          "name": "stdout",
          "text": [
            "pytihon\n",
            "ipython\n",
            "pythoni\n",
            "i\n"
          ]
        }
      ]
    }
  ]
}